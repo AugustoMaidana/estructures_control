import sys
#while True:
try:
    file_name = 'integers.txt'
    f = open(file_name, 'r')
    print(f.readline())
    print(f.readline())
    print(f.readline())
    print(f.readline())
    #s = f.read()
    #s = f.readlines()
    #s = f.readline()
    lst = s.strip()
    print(type(lst))
    f.close()
    #raise NameError('HiThere') # to force a specified exception to occur
    #x = int("four")
    #x = 20
    #y = 0
    #z = x / y
    #z = '2' + 2
    #z = spam * 3
    # Take any data as a string
    #        in_num = int(input("Enter an intger: "))
    #        print(in_num)
    #        if in_num > 0 and in_num < 10: # allow to break the while condition
    #            break

# handle errors
except IOError as err1:
    errno, strerror = err1.args
    print("I/O error({0}): {1}".format(errno,strerror))
    # err can be printed directly without using .args:
    # print(err)
except OSError as err2:
    print('cannot open', file_name)
    print("OS error: {0}".format(err2))
#else:
    #print(file_name, 'has', len(f.readline()), 'lines')
    #f.close()
except ValueError as err3:
    # Print custom error message
    print("Wrong input! {0}. Try again...".format(err3))
except ZeroDivisionError as err4: # division by zero : 10 * (1/0) 
    print("Infinity : division by zero !",err4)
#else:
#    print("result is", result)
except NameError: # name 'spam' is not defined : 4 + spam*3
    print("The name is not defined")
except TypeError: # Can't convert 'int' object to str implicitly : '2' + 2
    print("Can't convert the dataType object implicitly")
except RuntimeError as err:
    print('Handling run-time error:', err)
#except SyntaxError("Sorry, my fault!")
except:
    print("An unexpected error occurred", sys.exc_info()[0])
finally:  # executing finally clause
    print('Goodbye, world!')
    #raise # the exception to be raised
    #raise MyException("An exception doesn't always prove the rule!")
    
print("Let's get on")
if lst:
    print(lst)

"""
# To built the list with the position indices
##idxs = [*range(0, len(list1), 1)]
#print("The list with the position indices is : ", list2)

# Another alternative to built the list with the position indices
# Create a list in a range of 0 to len(list1)
# Value to begin and end with
start, end = 0, len(list1)-1
# Create an empty list
idxs = []
# Check if start value is smaller than end value
if start < end:
    # unpack the result
    idxs.extend(range(start, end))
    # Append the last value
    idxs.append(end)
"""